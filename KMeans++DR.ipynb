{
  "nbformat": 4,
  "nbformat_minor": 0,
  "metadata": {
    "colab": {
      "name": "KMeans++DR.ipynb",
      "provenance": [],
      "collapsed_sections": [],
      "include_colab_link": true
    },
    "kernelspec": {
      "name": "python3",
      "display_name": "Python 3"
    }
  },
  "cells": [
    {
      "cell_type": "markdown",
      "metadata": {
        "id": "view-in-github",
        "colab_type": "text"
      },
      "source": [
        "<a href=\"https://colab.research.google.com/github/dalton-rutledge/Portfolio/blob/master/KMeans%2B%2BDR.ipynb\" target=\"_parent\"><img src=\"https://colab.research.google.com/assets/colab-badge.svg\" alt=\"Open In Colab\"/></a>"
      ]
    },
    {
      "cell_type": "markdown",
      "metadata": {
        "id": "RWPMbVfk28Zx",
        "colab_type": "text"
      },
      "source": [
        "<h1>K-Means Clustering</h1>\n",
        "\n",
        "<h2>Clustering</h2>\n",
        "\n",
        "<p>Clustering a data set $X$ into $n$ clusters $C$ involves defining a function $$f : X \\rightarrow Y $$ which assigns a cluster $y_i \\in Y$ to each data point $x_j \\in X$. </p>\n",
        "\n",
        "<p>It is a form of unsupervised learning. Although it can be used for classification by setting the class of each $x$ to $f(x)$, the labels $y$ are learned by the clustering algorithm, not provided. Learning $f(x)$ from both samples $X$ <b>and</b> labels $Y$ would constitute a supervised approach.</p>\n",
        "\n",
        "<h2>K-Means</h2>\n",
        "\n",
        "<p>The $k$ in K-means refers to the number of clusters. The algorithm learns to assign points $x$ to $k$ clusters. The \"means\" refers to how the clusters are decided. Each cluster has a center: the mean of all the points in the cluster. Point $x$ belongs to the cluster $y$ whose center (mean) is closest.</p> \n",
        "\n",
        "<p>The means are computed through an iterative process:\n",
        "<ol>\n",
        "    <li>Select the initial $k$ means.</li>\n",
        "    <li>Assign a cluster $y$ to each $x$ in the training data according to the mean that is closest.</li>\n",
        "    <li>Update the $k$ means to be the means of the new clusters.</li>\n",
        "    <li>Repeat steps 2 and 3 until the means stop changing.</li>\n",
        "</ol>\n",
        "Further readings can be found on the <a href=\"http://cs.westminstercollege.edu\">the class website.</a></p>"
      ]
    },
    {
      "cell_type": "code",
      "metadata": {
        "colab_type": "code",
        "outputId": "0d7d52a7-b3fc-460c-f57c-58ea55a84163",
        "id": "HsyC8REut6BF",
        "colab": {
          "base_uri": "https://localhost:8080/",
          "height": 513
        }
      },
      "source": [
        "from sklearn.datasets.samples_generator import make_blobs\n",
        "import numpy as np\n",
        "import matplotlib.pyplot as plt\n",
        "import math\n",
        "import statistics\n",
        "\n",
        "# 1. use make_blobs to generate data\n",
        "xs,ys = make_blobs(n_samples=100, n_features=2, centers=5)\n",
        "\n",
        "\n",
        "# 2. implement k-means \n",
        "#2.1 We will start with k = 5 meaning we want to find 5 centers\n",
        "k = 5 \n",
        "\n",
        "#According to k-means++ algorithm, we then choose one center randomly from existing centers.\n",
        "#The next step is to calcualte D(x)**2 / sum([D(x)**2 for x in xs]) for all X.\n",
        "#Note that we do not need to exlcude previously chosen centers, because their D(x)**2 = 0, meaning they have a 0 probability of getting chosen for the next center\n",
        "\n",
        "\n",
        "#The below function calculates the distance squared to the closest center for each x, divides that number by the sum of the distance squared, and returns a normalized list of those values\n",
        "def calculateDXsqrd(xs, means):\n",
        "  DXsqrd = []\n",
        "  for x in xs:\n",
        "    curMin = math.inf\n",
        "    for mean in means:\n",
        "      #distance squared just gets rid of the square root in the formula for us\n",
        "      distance = (mean[0] - x[0])**2 + (mean[1] - x[1])**2\n",
        "      if distance < curMin:\n",
        "        curMin = distance\n",
        "    #add the square of the minimum distance to the list\n",
        "    DXsqrd.append(curMin**2)\n",
        "  #sum our distances then update each value by dividing by this sum\n",
        "  sumOfDistances = sum(DXsqrd)\n",
        "  for dx in DXsqrd:\n",
        "    dx = dx / sumOfDistances\n",
        "  #normalize the list so that it represents a list of probabilities\n",
        "  norm = [float(i)/sum(DXsqrd) for i in DXsqrd]\n",
        "  return norm\n",
        "\n",
        "\n",
        "#we can then use this function, along with numpy.random.choice (with probability array specified), to build a function that picks k means according to the kmeans++ algorithm\n",
        "\n",
        "def pickMeansPlusPlus(xs, k):\n",
        "  #pick a random mean\n",
        "  firstCenter = np.random.choice(xs.shape[0], size=1, replace=False)\n",
        "  firstCenter = firstCenter[0]  #we just want the value, take it out of its list home, you have no idea how long it took me to debug that one issue haha\n",
        "  means = [xs[firstCenter]]\n",
        "  #pick k - 1 more means\n",
        "  for i in range(k-1):\n",
        "    probabilityList = calculateDXsqrd(xs, means)\n",
        "    newMean = np.random.choice(xs.shape[0], size=1, replace=False, p=probabilityList)\n",
        "    newMean = newMean[0]\n",
        "    newMean = xs[newMean]\n",
        "    means.append(newMean)\n",
        "  \n",
        "  #reformat means to a list of tuples because I like those as a datastructure for working with\n",
        "  means = [(mean[0], mean[1]) for mean in means]\n",
        "  return means\n",
        "\n",
        "\n",
        "#the below code picks the k means from available data\n",
        "kmeansPP = pickMeansPlusPlus(xs, k)\n",
        "kmeansPP = [(mean[0], mean[1]) for mean in kmeansPP]\n",
        "#the below code plots the 5 means as different colors\n",
        "colors = [\"red\", \"green\", \"blue\", \"purple\", \"orange\"]\n",
        "f = plt.figure()\n",
        "ax = f.gca()\n",
        "i = 0\n",
        "for mean in kmeansPP:\n",
        "  ax.scatter(mean[0], mean[1], c=colors[i])\n",
        "  i = i + 1\n",
        "  \n",
        "#all code below was used for the original kmeans implementation\n",
        "#2.2 cluster all the data according to its nearest mean\n",
        "\n",
        "def clusterAPoint(x, means):\n",
        "  closest = math.inf\n",
        "  bestMean = means[0]\n",
        "  for mean in means:\n",
        "    dist = math.sqrt((mean[0] - x[0])**2 + (mean[1] - x[1])**2)\n",
        "    if dist < closest:\n",
        "      closest = dist\n",
        "      bestMean = mean\n",
        "  return bestMean\n",
        "\n",
        "def cluster(xs, means):\n",
        "  clusters = {}\n",
        "  for mean in means:\n",
        "    clusters[mean] = []\n",
        "  for x in xs:\n",
        "    bestMean = clusterAPoint(x, means)\n",
        "    clusters[bestMean].append(x)\n",
        "  return clusters\n",
        "  \n",
        "  \n",
        "#example of how to create the initial clusters\n",
        "#clusters = cluster(xs, means)  \n",
        "\n",
        "\n",
        "#2.3 update the means by taking the mean of the new clusters\n",
        "def reDoMeans(clusters):\n",
        "  newMeans = []\n",
        "  x1s = []\n",
        "  x2s = []\n",
        "  for key in clusters:\n",
        "    for value in clusters[key]:\n",
        "      x1s.append(value[0])\n",
        "      x2s.append(value[1])\n",
        "    newMeans.append( (statistics.mean(x1s), statistics.mean(x2s)) )\n",
        "    x1s = []\n",
        "    x2s = []\n",
        "  return newMeans\n",
        "\n",
        "#means = reDoMeans(clusters)   # re calculate the means example\n",
        "\n",
        "\n",
        "\n",
        "#2.4 repeat 2.2 and 2.3 until we converge (meaning the means havent changed between iterations)\n",
        "def plot(xs, means):\n",
        "  oldMeans = None\n",
        "  while oldMeans != means:\n",
        "    clusters = cluster(xs, means)\n",
        "    oldMeans = means\n",
        "    means = reDoMeans(clusters)\n",
        "\n",
        "\n",
        "  # 3. plot each cluster with a different color  --> I actually accomplished this by plotting by individual points\n",
        "  colors = [\"red\", \"green\", \"blue\", \"purple\", \"orange\"]\n",
        "  f = plt.figure()\n",
        "  ax = f.gca()\n",
        "  i = 0\n",
        "  for mean in means:\n",
        "    for value in clusters[mean]:\n",
        "      ax.scatter(value[0], value[1], c=colors[i])\n",
        "    i = i + 1\n",
        "  \n",
        "\n",
        "#the below code plots all data, colored by cluster\n",
        "#call plot on some data, and some means  \n",
        "plot(xs, kmeansPP)"
      ],
      "execution_count": 0,
      "outputs": [
        {
          "output_type": "display_data",
          "data": {
            "image/png": "[encoded data removed]",
            "text/plain": [
              "<Figure size 432x288 with 1 Axes>"
            ]
          },
          "metadata": {
            "tags": []
          }
        },
        {
          "output_type": "display_data",
          "data": {
            "image/png": "[encoded data removed]",
            "text/plain": [
              "<Figure size 432x288 with 1 Axes>"
            ]
          },
          "metadata": {
            "tags": []
          }
        }
      ]
    }
  ]
}